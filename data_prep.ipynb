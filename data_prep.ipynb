{
 "cells": [
  {
   "metadata": {},
   "cell_type": "code",
   "outputs": [],
   "execution_count": null,
   "source": "import pandas as pd",
   "id": "e3491a4d105f58ae"
  },
  {
   "metadata": {},
   "cell_type": "code",
   "outputs": [],
   "execution_count": null,
   "source": [
    "data = pd.read_csv(\"GOAL_DATA.csv\")\n",
    "data"
   ],
   "id": "171b67248a8746ef"
  },
  {
   "metadata": {},
   "cell_type": "code",
   "outputs": [],
   "execution_count": null,
   "source": [
    "\n",
    "\n",
    "col_dict = {\n",
    "    \"col1\": \"o2.5_avg_season\",\n",
    "    \"col2\": \"o2.5_avg_past5\",\n",
    "    \"col3\": \"o3.5_avg_season\",\n",
    "    \"col4\": \"o3.5_avg_past5\",\n",
    "    \"col5\": \"H_ELO_avg\",\n",
    "    \"col6\": \"H_ELO_avg_opp\",\n",
    "    \"col7\": \"H_win_avg\",\n",
    "    \"col8\": \"H_win_1.5_avg\",\n",
    "    \"col2\": \"H_gg_avg\",\n",
    "    \"col9\": \"A_ELO_avg\",\n",
    "    \"col10\": \"A_ELO_avg_opp\",\n",
    "    \"col11\": \"A_win_avg\",\n",
    "    \"col12\": \"A_win_1.5_avg\",\n",
    "    \"col\": \"A_gg_avg\",\n",
    "    \"col\": \"home_goals\",\n",
    "    \"col\": \"away_goals\",\n",
    "    \"col\": \"o2.5_odds\",\n",
    "\n",
    "\n",
    "\n",
    "\n",
    "}"
   ],
   "id": "ca16f7ca639f9e47"
  }
 ],
 "metadata": {
  "kernelspec": {
   "display_name": "Python 3",
   "language": "python",
   "name": "python3"
  },
  "language_info": {
   "codemirror_mode": {
    "name": "ipython",
    "version": 2
   },
   "file_extension": ".py",
   "mimetype": "text/x-python",
   "name": "python",
   "nbconvert_exporter": "python",
   "pygments_lexer": "ipython2",
   "version": "2.7.6"
  }
 },
 "nbformat": 4,
 "nbformat_minor": 5
}
