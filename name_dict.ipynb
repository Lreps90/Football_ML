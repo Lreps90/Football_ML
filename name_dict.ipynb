{
 "cells": [
  {
   "cell_type": "code",
   "execution_count": null,
   "id": "initial_id",
   "metadata": {
    "collapsed": true
   },
   "outputs": [],
   "source": [
    "team_name_map = {\n",
    "    'Almelo': 'Heracles',\n",
    "    'Gorica': 'HNK Gorica',\n",
    "    'Venlo': 'VVV Venlo',\n",
    "    'Partick Thistle': 'Partick',\n",
    "    'Harrogate': 'Harrogate Town',\n",
    "    'Hibs': 'Hibernian',\n",
    "    'Eindhoven': 'PSV',\n",
    "    'Crete': 'OFI',\n",
    "    'Volos': 'NFC Volos',\n",
    "    'Roda': 'Roda JC',\n",
    "    'Monza': 'AC Monza',\n",
    "    'Parma Calcio': 'Parma',\n",
    "    'C Palace': 'Crystal Palace',\n",
    "    'Ayr United': 'Ayr',\n",
    "    'Greenock': 'Hamilton',\n",
    "    'West Bromwich': 'West Brom',\n",
    "    'Milan': 'AC Milan',\n",
    "    'Stabia': 'Juve Stabia',\n",
    "    'Sporting': 'Sporting Lisbon',\n",
    "    'Hadera': 'Hapoel Eran Hadera',\n",
    "    'Kiryat Shmona': 'Hapoel Kiryat Shmona',\n",
    "    'Harrogate': 'Harrogate Town',\n",
    "    'Salford': 'Salford City',\n",
    "    'Fleetwood': 'Fleetwood Town',\n",
    "    'Be`er Sheva': 'Hapoel Beer Sheva',\n",
    "    'Hellas Verona': 'Verona',\n",
    "    'Monza': 'AC Monza',\n",
    "    'Aris Thessaloniki': 'Aris',\n",
    "    'Crete': 'OFI',\n",
    "    'Ashdod': 'FC Ashdod',\n",
    "    'Aves': 'AVS Futebol',\n",
    "    'Estrela,': 'Club Football Estrela',\n",
    "    'Estoril': 'Estoril Praia',\n",
    "    'Panetolikos': 'Panaitolikos',\n",
    "    'Olympiacos': 'Olympiakos',\n",
    "\n",
    "\n",
    "\n",
    "\n",
    "\n",
    "\n",
    "\n",
    "}"
   ]
  }
 ],
 "metadata": {
  "kernelspec": {
   "display_name": "Python 3",
   "language": "python",
   "name": "python3"
  },
  "language_info": {
   "codemirror_mode": {
    "name": "ipython",
    "version": 2
   },
   "file_extension": ".py",
   "mimetype": "text/x-python",
   "name": "python",
   "nbconvert_exporter": "python",
   "pygments_lexer": "ipython2",
   "version": "2.7.6"
  }
 },
 "nbformat": 4,
 "nbformat_minor": 5
}
